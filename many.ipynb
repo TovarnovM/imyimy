{
 "cells": [
  {
   "cell_type": "code",
   "execution_count": null,
   "metadata": {},
   "outputs": [],
   "source": [
    "import cv2\n",
    "import numpy as np\n",
    "import matplotlib.pyplot as plt\n",
    "import matplotlib as mpl\n",
    "from floyd_steinberg_dithering import floyd_steinberg_dithering, plot, insert_simple, paste_with_mask\n",
    "from math import *\n",
    "import io\n",
    "import json\n",
    "%matplotlib inline \n",
    "%config InlineBackend.figure_format = 'svg' \n",
    "\n",
    "mpl.rcParams['figure.figsize'] = (10,6) "
   ]
  },
  {
   "cell_type": "code",
   "execution_count": null,
   "metadata": {},
   "outputs": [],
   "source": [
    "def rotate_glichless(img, angle):\n",
    "    m = cv2.getRotationMatrix2D((0,0), angle, 1.0)\n",
    "    p1 = np.array([img.shape[1]/2, img.shape[0]/2])\n",
    "    p2 = np.array([img.shape[1]/2, -img.shape[0]/2])\n",
    "\n",
    "    ymax = max( abs(int(np.matmul(p1, m)[1])), abs(int(np.matmul(p2, m)[1])))\n",
    "    xmax = max( abs(int(np.matmul(p2, m)[0])), abs(int(np.matmul(p1, m)[0])))\n",
    "    if len(img.shape) == 2:\n",
    "        img = np.reshape(img, (img.shape[0], img.shape[1], 1))\n",
    "    img_big = np.zeros((max(ymax*2, img.shape[0]), max(xmax*2, img.shape[1]), img.shape[2]), dtype=img.dtype)\n",
    "    x1 = int(img_big.shape[1]/2 - img.shape[1]/2)\n",
    "    x2 = int(img_big.shape[1]/2 + img.shape[1]/2)\n",
    "    y1 = int(img_big.shape[0]/2 - img.shape[0]/2)\n",
    "    y2 = int(img_big.shape[0]/2 + img.shape[0]/2)\n",
    "    insert_simple(img_big, img, x1,y1, x2, y2)\n",
    "    \n",
    "    image_center = tuple(np.array(img_big.shape[1::-1]) / 2)\n",
    "    rot_mat = cv2.getRotationMatrix2D(image_center, angle, 1.0)\n",
    "    res = cv2.warpAffine(img_big, rot_mat, img_big.shape[1::-1], flags=cv2.INTER_LINEAR)\n",
    "    return res\n",
    "\n",
    "def get_mask(img, angle):\n",
    "    mask = np.zeros(img.shape[:2])\n",
    "    mask[:,:] = 255\n",
    "    mask = rotate_glichless(mask, angle)\n",
    "    return mask == 255\n",
    "\n",
    "def resize_max_gab(img, max_gab):\n",
    "    fx = max_gab / img.shape[0] \n",
    "    fy = max_gab / img.shape[1] \n",
    "    return cv2.resize(img, (0,0), fx=min(fx,fy), fy=min(fx,fy))\n",
    "\n",
    "class ImageCool(object):\n",
    "    def __init__(self, max_gab=100, angle=0, fsd_factor=1):\n",
    "        self.max_gab = max_gab\n",
    "        self.angle = angle\n",
    "        self.img=None\n",
    "        self.mask=None\n",
    "        self.img_fsd = None\n",
    "        self.fsd_factor = fsd_factor\n",
    "             \n",
    "    def load_img(self, img):\n",
    "        img = resize_max_gab(img, self.max_gab)\n",
    "        self.img = rotate_glichless(img, self.angle)\n",
    "        self.mask = get_mask(img, self.angle)\n",
    "    \n",
    "    def load_img_from_file(self, fname):\n",
    "        img = cv2.imread(fname)\n",
    "        self.load_img(img)\n",
    "        \n",
    "    def get_fsd(self, force=False, fsd_factor=None):\n",
    "        if self.img_fsd is None or force:\n",
    "            if fsd_factor is not None:\n",
    "                self.fsd_factor = fsd_factor\n",
    "            if self.fsd_factor is not None:\n",
    "                self.fsd_factor = 1\n",
    "            self.img_fsd = floyd_steinberg_dithering(self.img, self.fsd_factor)\n",
    "        return self.img_fsd\n",
    "        \n",
    "    def plot(self, background=(0,0,255), fsd=False):\n",
    "        res = np.zeros_like(self.img)\n",
    "        res[:,:] = np.array(background[::-1])\n",
    "        img = self.img\n",
    "        if fsd:\n",
    "            img = self.get_fsd()\n",
    "        res[self.mask] = img[self.mask]\n",
    "        plot(res)\n",
    "        \n",
    "    def insert_me_to(self, img, xc, yc, fsd=False):\n",
    "        x, y = self.img.shape[1::-1]\n",
    "        img2 = self.img\n",
    "        if fsd:\n",
    "            img2 = self.get_fsd()\n",
    "        paste_with_mask(img, img2, self.mask, (xc,yc), (x/2,y/2))\n",
    "        return img\n",
    "        "
   ]
  },
  {
   "cell_type": "code",
   "execution_count": null,
   "metadata": {},
   "outputs": [],
   "source": [
    "img_c = ImageCool(1000, -10)\n",
    "img_c.load_img_from_file('imgs/game-of-thrones-sansa-stark-pinup-models-pinup-vintage-tv-se.jpg')\n",
    "img_c.plot()"
   ]
  },
  {
   "cell_type": "code",
   "execution_count": null,
   "metadata": {},
   "outputs": [],
   "source": [
    "import pickle"
   ]
  },
  {
   "cell_type": "code",
   "execution_count": null,
   "metadata": {},
   "outputs": [],
   "source": []
  },
  {
   "cell_type": "code",
   "execution_count": null,
   "metadata": {},
   "outputs": [],
   "source": [
    "img2 = cv2.imread('imgs/koshmas.png')\n",
    "img_c2 = ImageCool(300, 30)\n",
    "img_c2.load_img(img2)\n",
    "\n"
   ]
  },
  {
   "cell_type": "code",
   "execution_count": null,
   "metadata": {},
   "outputs": [],
   "source": [
    "img_c2.insert_me_to(img_c.img, 500,300, True)\n",
    "\n",
    "plot(img_c.img)"
   ]
  },
  {
   "cell_type": "code",
   "execution_count": null,
   "metadata": {},
   "outputs": [],
   "source": [
    "with open('db.bin', 'wb') as f:\n",
    "    pickle.dump([img_c, img_c2], f)"
   ]
  },
  {
   "cell_type": "code",
   "execution_count": null,
   "metadata": {},
   "outputs": [],
   "source": [
    "with open('db.bin', 'rb') as f:\n",
    "    s = pickle.load(f)"
   ]
  },
  {
   "cell_type": "code",
   "execution_count": null,
   "metadata": {},
   "outputs": [],
   "source": [
    "s"
   ]
  },
  {
   "cell_type": "code",
   "execution_count": null,
   "metadata": {},
   "outputs": [],
   "source": [
    "import glob\n",
    "from tqdm import tqdm_notebook, tqdm\n",
    "import random"
   ]
  },
  {
   "cell_type": "code",
   "execution_count": null,
   "metadata": {},
   "outputs": [],
   "source": [
    "for _ in tqdm(glob.glob('imgs/*')*3):\n",
    "    pass"
   ]
  },
  {
   "cell_type": "code",
   "execution_count": null,
   "metadata": {},
   "outputs": [],
   "source": [
    "all_imgs = []"
   ]
  },
  {
   "cell_type": "code",
   "execution_count": null,
   "metadata": {},
   "outputs": [],
   "source": [
    "for fp in tqdm(glob.glob('imgs/*')*3):\n",
    "    try:\n",
    "        ic = ImageCool(max_gab=np.random.uniform(70,200),\n",
    "                       angle=np.random.uniform(-60,60),fsd_factor=2)\n",
    "        ic.load_img_from_file(fp)\n",
    "        all_imgs.append(ic)\n",
    "    except Exception as e:\n",
    "        print(f'{fp}  {e}')\n",
    "        "
   ]
  },
  {
   "cell_type": "code",
   "execution_count": null,
   "metadata": {},
   "outputs": [],
   "source": [
    "for ic in tqdm(all_imgs):\n",
    "    ic.get_fsd(True, 3)"
   ]
  },
  {
   "cell_type": "code",
   "execution_count": null,
   "metadata": {},
   "outputs": [],
   "source": [
    "with open('all_imgs_fsd.bin', 'wb') as f:\n",
    "    pickle.dump(all_imgs, f)"
   ]
  },
  {
   "cell_type": "code",
   "execution_count": null,
   "metadata": {},
   "outputs": [],
   "source": []
  }
 ],
 "metadata": {
  "kernelspec": {
   "display_name": "env_imyimy",
   "language": "python",
   "name": "env_imyimy"
  },
  "language_info": {
   "codemirror_mode": {
    "name": "ipython",
    "version": 3
   },
   "file_extension": ".py",
   "mimetype": "text/x-python",
   "name": "python",
   "nbconvert_exporter": "python",
   "pygments_lexer": "ipython3",
   "version": "3.6.7"
  }
 },
 "nbformat": 4,
 "nbformat_minor": 2
}
