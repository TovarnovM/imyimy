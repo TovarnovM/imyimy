{
 "cells": [
  {
   "cell_type": "code",
   "execution_count": null,
   "metadata": {},
   "outputs": [],
   "source": [
    "import cv2"
   ]
  },
  {
   "cell_type": "code",
   "execution_count": null,
   "metadata": {},
   "outputs": [],
   "source": [
    "import numpy as np"
   ]
  },
  {
   "cell_type": "code",
   "execution_count": null,
   "metadata": {},
   "outputs": [],
   "source": [
    "import matplotlib.pyplot as plt\n",
    "import matplotlib as mpl\n",
    "%matplotlib inline \n",
    "%config InlineBackend.figure_format = 'svg' \n",
    "\n",
    "mpl.rcParams['figure.figsize'] = (10,6) "
   ]
  },
  {
   "cell_type": "code",
   "execution_count": null,
   "metadata": {},
   "outputs": [],
   "source": [
    "img1 = cv2.imread('imgs/game-of-thrones-sansa-stark-pinup-models-pinup-vintage-tv-se.jpg')"
   ]
  },
  {
   "cell_type": "code",
   "execution_count": null,
   "metadata": {},
   "outputs": [],
   "source": [
    "plot(img1)"
   ]
  },
  {
   "cell_type": "code",
   "execution_count": null,
   "metadata": {},
   "outputs": [],
   "source": [
    "img2 = cv2.imread('imgs/koshmas.png')"
   ]
  },
  {
   "cell_type": "code",
   "execution_count": null,
   "metadata": {},
   "outputs": [],
   "source": [
    "plt.imshow(cv2.cvtColor(img2, cv2.COLOR_BGR2RGB))\n",
    "plt.show()"
   ]
  },
  {
   "cell_type": "code",
   "execution_count": null,
   "metadata": {},
   "outputs": [],
   "source": [
    "img2[-1,-1]"
   ]
  },
  {
   "cell_type": "code",
   "execution_count": null,
   "metadata": {},
   "outputs": [],
   "source": [
    "img3 = cv2.resize(img2,(200,100))\n",
    "img3 = cv2.cvtColor(img3, cv2.COLOR_BGR2GRAY)\n",
    "plot(img3)"
   ]
  },
  {
   "cell_type": "code",
   "execution_count": null,
   "metadata": {},
   "outputs": [],
   "source": []
  },
  {
   "cell_type": "code",
   "execution_count": null,
   "metadata": {},
   "outputs": [],
   "source": [
    "def get_mean_color(img):\n",
    "    return (np.sum(img, axis=(0,1)) / (img.shape[0] * img.shape[1])).astype(img.dtype)"
   ]
  },
  {
   "cell_type": "code",
   "execution_count": null,
   "metadata": {},
   "outputs": [],
   "source": [
    "img4 = img3.copy()\n",
    "img4[:,:] = get_mean_color(img1)\n",
    "plot(img4)"
   ]
  },
  {
   "cell_type": "code",
   "execution_count": null,
   "metadata": {},
   "outputs": [],
   "source": [
    "def insert(img_to, img_what, x1, y1, x2, y2):\n",
    "    w = x2-x1\n",
    "    h = y2-y1\n",
    "    img_resized = cv2.resize(img_what,(w,h))\n",
    "    img_to[y1:y2, x1:x2, :] = img_resized[:,:,:]"
   ]
  },
  {
   "cell_type": "code",
   "execution_count": null,
   "metadata": {},
   "outputs": [],
   "source": [
    "img4_copy = img1.copy()\n",
    "insert(img4_copy, img2, 100, 100, 300, 1000)\n",
    "plot(img4_copy)"
   ]
  },
  {
   "cell_type": "code",
   "execution_count": null,
   "metadata": {},
   "outputs": [],
   "source": [
    "get_mean_color(img3)"
   ]
  },
  {
   "cell_type": "code",
   "execution_count": null,
   "metadata": {},
   "outputs": [],
   "source": [
    "pix = np.array([60, 33, 200], dtype=np.uint8)\n",
    "fac = 3\n",
    "find_closest_palette_color(pix, fac), pix.astype(np.float) * fac"
   ]
  },
  {
   "cell_type": "code",
   "execution_count": null,
   "metadata": {},
   "outputs": [],
   "source": [
    "%%writefile floyd_steinberg_dithering.py\n",
    "import cv2\n",
    "import numpy as np\n",
    "from numba import jit\n",
    "import matplotlib.pyplot as plt\n",
    "\n",
    "def plot(img):\n",
    "    plt.imshow(cv2.cvtColor(img, cv2.COLOR_BGR2RGB))\n",
    "    plt.show()\n",
    "    \n",
    "def insert_simple(img_to, img_what, x1, y1, x2, y2):\n",
    "    w = x2-x1\n",
    "    h = y2-y1\n",
    "    if img_what.shape[0] != h or img_what.shape[1] != w:\n",
    "        img_what = cv2.resize(img_what,(w,h))\n",
    "    img_to[y1:y2, x1:x2] = img_what\n",
    "\n",
    "@jit\n",
    "def get_range(x_min, x_max, x1_min, x1_max, cen, cen1):\n",
    "    dx1 = cen1 - x1_min\n",
    "    res_min = cen - dx1\n",
    "    if res_min < x_min:\n",
    "        res_min = x_min\n",
    "    res_min = int(res_min)\n",
    "    res_max = res_min + (x1_max - x1_min)\n",
    "    if res_max > x_max:\n",
    "        res_max = x_max\n",
    "        res_min = int(res_max - (x1_max - x1_min))\n",
    "    res_max = int(res_max)\n",
    "    return res_min, res_max\n",
    "        \n",
    "@jit\n",
    "def get_paste_diaps(img_large, img_paste, center_large, center_paste, \\\n",
    "                    offset_large_x=0, offset_large_y=0):\n",
    "    y_max_large, x_max_large, nope = img_large.shape\n",
    "    y_max_paste, x_max_paste, nope = img_paste.shape\n",
    "    \n",
    "    x_max_large -= offset_large_x\n",
    "    x_min_large = offset_large_x\n",
    "    y_max_large -= offset_large_y\n",
    "    y_min_large = offset_large_y\n",
    "    \n",
    "    x_p_min, x_p_max = get_range(x_min_large, x_max_large, 0, x_max_paste, \n",
    "                                 center_large[0], center_paste[0])\n",
    "    y_p_min, y_p_max = get_range(y_min_large, y_max_large, 0, y_max_paste, \n",
    "                                 center_large[1], center_paste[1])\n",
    "    return x_p_min, x_p_max, y_p_min, y_p_max \n",
    "    \n",
    "@jit\n",
    "def paste_with_mask(img_large, img_paste, mask_paste, center_large, center_paste):\n",
    "    x1, x2, y1, y2 = get_paste_diaps(img_large, img_paste, center_large, center_paste)\n",
    "    for i in range(y1,y2):\n",
    "        for j in range(x1,x2):\n",
    "            if mask_paste[i-y1, j-x1]:\n",
    "                img_large[i,j,:] = img_paste[i-y1, j-x1,:]\n",
    "\n",
    "@jit\n",
    "def get_good_pix(pix):\n",
    "    if isinstance(pix, np.ndarray):\n",
    "        for i in range(pix.shape[0]):\n",
    "            if pix[i] > 255:\n",
    "                pix[i] = 255\n",
    "            elif pix[i] < 0:\n",
    "                pix[i] = 0\n",
    "        return pix.astype(np.uint8)\n",
    "    return 254 if pix > 254 else (1 if pix < 1 else int(pix))\n",
    "\n",
    "@jit\n",
    "def find_closest_palette_color(pix, factor):\n",
    "    return get_good_pix(np.round(factor * pix.astype(np.float)/255.0) *(255.0/factor))\n",
    "\n",
    "@jit\n",
    "def kernel_fsd(img, error, x, y, dx, dy, multy, img_w, img_h):\n",
    "    if x + dx < 0 or x+dx >= img_w or y+dy >= img_h:\n",
    "        return\n",
    "    img[y+dy, x+dx] = get_good_pix(img[y+dy, x+dx].astype(np.float) + error.astype(np.float) * multy)\n",
    "\n",
    "@jit\n",
    "def floyd_steinberg_dithering(img, factor=2):\n",
    "    pixel = img.copy()\n",
    "    if len(pixel.shape) == 2:\n",
    "        pixel = np.reshape(pixel, (pixel.shape[0], pixel.shape[1], 1))\n",
    "    img_h, img_w, r = pixel.shape\n",
    "    for i in range(img.shape[0]):\n",
    "        for j in range(img.shape[1]):\n",
    "            oldpixel = pixel[i,j].copy()\n",
    "            newpixel = find_closest_palette_color(oldpixel, factor)\n",
    "            pixel[i,j] = newpixel\n",
    "            quant_error = get_good_pix(oldpixel.astype(np.float)  - newpixel.astype(np.float))  \n",
    "            \n",
    "            kernel_fsd(pixel, quant_error, j, i, 1, 0,  7/48, img_w, img_h)\n",
    "            kernel_fsd(pixel, quant_error, j, i, 2, 0,  5/48, img_w, img_h)\n",
    "            kernel_fsd(pixel, quant_error, j, i, -2, 1, 3/48, img_w, img_h)\n",
    "            kernel_fsd(pixel, quant_error, j, i, -1, 1, 5/48, img_w, img_h)\n",
    "            kernel_fsd(pixel, quant_error, j, i, 0,  1, 7/48, img_w, img_h)\n",
    "            kernel_fsd(pixel, quant_error, j, i, 1,  1, 5/48, img_w, img_h)\n",
    "            kernel_fsd(pixel, quant_error, j, i, 2,  1, 3/48, img_w, img_h)\n",
    "            kernel_fsd(pixel, quant_error, j, i, -2, 2, 1/48, img_w, img_h)\n",
    "            kernel_fsd(pixel, quant_error, j, i, -1, 2, 3/48, img_w, img_h)\n",
    "            kernel_fsd(pixel, quant_error, j, i, 0,  2, 5/48, img_w, img_h)\n",
    "            kernel_fsd(pixel, quant_error, j, i, 1,  2, 3/48, img_w, img_h)\n",
    "            kernel_fsd(pixel, quant_error, j, i, 2,  2, 1/48, img_w, img_h)\n",
    "    pixel = np.reshape(pixel, img.shape)\n",
    "    return pixel"
   ]
  },
  {
   "cell_type": "code",
   "execution_count": null,
   "metadata": {},
   "outputs": [],
   "source": [
    "img5 =cv2.cvtColor(img2, cv2.COLOR_BGR2GRAY)\n",
    "# plot(floyd_steinberg_dithering(cv2.resize(img3,(300,150)),4))\n",
    "i = floyd_steinberg_dithering(cv2.resize(img2,(40,20)),8)\n",
    "plot(i)"
   ]
  },
  {
   "cell_type": "code",
   "execution_count": null,
   "metadata": {},
   "outputs": [],
   "source": [
    "img1.shape"
   ]
  },
  {
   "cell_type": "code",
   "execution_count": null,
   "metadata": {},
   "outputs": [],
   "source": [
    "def img_likehood(img1, img2):\n",
    "    if img1.shape != img2.shape:\n",
    "        raise Exception(f'Картинки разного размера')\n",
    "    if len(img1.shape) == 2:\n",
    "        img1 = np.reshape(img1, (img1.shape[0], img1.shape[1], 1))\n",
    "        img2 = np.reshape(img2, (img1.shape[0], img2.shape[1], 1))\n",
    "    d =  img1.astype(np.float)-img2.astype(np.float)   \n",
    "    return np.average(np.sqrt(np.sum(d*d, axis=2)))*100/255"
   ]
  },
  {
   "cell_type": "code",
   "execution_count": null,
   "metadata": {},
   "outputs": [],
   "source": [
    "d= img_likehood(cv2.resize(img2,(10,5)), floyd_steinberg_dithering(cv2.resize(img2,(10,5)),1))\n",
    "d"
   ]
  },
  {
   "cell_type": "code",
   "execution_count": null,
   "metadata": {},
   "outputs": [],
   "source": [
    "np.average(np.sqrt(np.sum(d*d, axis=2)))"
   ]
  },
  {
   "cell_type": "code",
   "execution_count": null,
   "metadata": {},
   "outputs": [],
   "source": []
  }
 ],
 "metadata": {
  "kernelspec": {
   "display_name": "env_imyimy",
   "language": "python",
   "name": "env_imyimy"
  },
  "language_info": {
   "codemirror_mode": {
    "name": "ipython",
    "version": 3
   },
   "file_extension": ".py",
   "mimetype": "text/x-python",
   "name": "python",
   "nbconvert_exporter": "python",
   "pygments_lexer": "ipython3",
   "version": "3.6.7"
  }
 },
 "nbformat": 4,
 "nbformat_minor": 2
}
