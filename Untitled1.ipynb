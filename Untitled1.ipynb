{
 "cells": [
  {
   "cell_type": "code",
   "execution_count": null,
   "metadata": {},
   "outputs": [],
   "source": [
    "import cv2\n",
    "import numpy as np\n",
    "import matplotlib.pyplot as plt\n",
    "import matplotlib as mpl\n",
    "from floyd_steinberg_dithering import floyd_steinberg_dithering, plot, insert_simple, paste_with_mask\n",
    "from math import *\n",
    "import io\n",
    "import json\n",
    "%matplotlib inline \n",
    "%config InlineBackend.figure_format = 'svg' \n",
    "\n",
    "mpl.rcParams['figure.figsize'] = (10,6) "
   ]
  },
  {
   "cell_type": "code",
   "execution_count": null,
   "metadata": {},
   "outputs": [],
   "source": [
    "def rotate_glichless(img, angle):\n",
    "    m = cv2.getRotationMatrix2D((0,0), angle, 1.0)\n",
    "    p1 = np.array([img.shape[1]/2, img.shape[0]/2])\n",
    "    p2 = np.array([img.shape[1]/2, -img.shape[0]/2])\n",
    "\n",
    "    ymax = max( abs(int(np.matmul(p1, m)[1])), abs(int(np.matmul(p2, m)[1])))\n",
    "    xmax = max( abs(int(np.matmul(p2, m)[0])), abs(int(np.matmul(p1, m)[0])))\n",
    "    if len(img.shape) == 2:\n",
    "        img = np.reshape(img, (img.shape[0], img.shape[1], 1))\n",
    "    img_big = np.zeros((max(ymax*2, img.shape[0]), max(xmax*2, img.shape[1]), img.shape[2]), dtype=img.dtype)\n",
    "    x1 = int(img_big.shape[1]/2 - img.shape[1]/2)\n",
    "    x2 = int(img_big.shape[1]/2 + img.shape[1]/2)\n",
    "    y1 = int(img_big.shape[0]/2 - img.shape[0]/2)\n",
    "    y2 = int(img_big.shape[0]/2 + img.shape[0]/2)\n",
    "    insert_simple(img_big, img, x1,y1, x2, y2)\n",
    "    \n",
    "    image_center = tuple(np.array(img_big.shape[1::-1]) / 2)\n",
    "    rot_mat = cv2.getRotationMatrix2D(image_center, angle, 1.0)\n",
    "    res = cv2.warpAffine(img_big, rot_mat, img_big.shape[1::-1], flags=cv2.INTER_LINEAR)\n",
    "    return res\n",
    "\n",
    "def get_mask(img, angle):\n",
    "    mask = np.zeros(img.shape[:2])\n",
    "    mask[:,:] = 255\n",
    "    mask = rotate_glichless(mask, angle)\n",
    "    return mask == 255\n",
    "\n",
    "def as_ImageCool(dct):\n",
    "    \"\"\"JSON decoder for NumPy ndarrays.\"\"\"\n",
    "    if '__numpy__' in dct:\n",
    "        return np.load(io.BytesIO(dct['data'].encode('latin-1')))\n",
    "    if '__ImageCool__' in dct:\n",
    "        ic = ImageCool()\n",
    "        for k in dct['data']:\n",
    "            data = as_ImageCool(dct['data'][k])\n",
    "            setattr(ic, k, data)\n",
    "        return ic\n",
    "    return dct\n",
    "\n",
    "class ImageCoolEncoder(json.JSONEncoder):\n",
    "    \"\"\"JSON Encoder for NumPy ndarrays.\"\"\"\n",
    "    def default(self, obj):\n",
    "        if isinstance(obj, np.ndarray):\n",
    "            f = io.BytesIO()\n",
    "            np.save(f, obj)\n",
    "            f.seek(io.SEEK_SET)\n",
    "            data = f.read().decode('latin-1')\n",
    "            return {'__numpy__': True, 'data': data}\n",
    "        if isinstance(obj, ImageCool):\n",
    "            return {'__ImageCool__': True, 'data': obj.__dict__}\n",
    "        return super().default(obj)\n",
    "\n",
    "class ImageCool(object):\n",
    "    def __init__(self, max_gab=100, angle=0, fsd_factor=1):\n",
    "        self.max_gab = max_gab\n",
    "        self.angle = angle\n",
    "        self.img=None\n",
    "        self.mask=None\n",
    "        self.img_fsd = None\n",
    "        self.fsd_factor = fsd_factor\n",
    "             \n",
    "    def load_img(self, img):\n",
    "        fx = self.max_gab / img.shape[1] \n",
    "        fy = self.max_gab / img.shape[1] \n",
    "        img = cv2.resize(img, (0,0), fx=min(fx,fy), fy=min(fx,fy))\n",
    "        self.img = rotate_glichless(img, self.angle)\n",
    "        self.mask = get_mask(img, self.angle)\n",
    "    \n",
    "    def load_img_from_file(self, fname):\n",
    "        img = cv2.imread(fname)\n",
    "        self.load_img(img)\n",
    "        \n",
    "    def get_fsd(self, force=False, fsd_factor=None):\n",
    "        if self.img_fsd is None or force:\n",
    "            if fsd_factor is not None:\n",
    "                self.fsd_factor = fsd_factor\n",
    "            if self.fsd_factor is None:\n",
    "                self.fsd_factor = 1\n",
    "            self.img_fsd = floyd_steinberg_dithering(self.img, self.fsd_factor)\n",
    "        return self.img_fsd\n",
    "        \n",
    "    def plot(self, background=(0,0,255), fsd=False):\n",
    "        res = np.zeros_like(self.img)\n",
    "        res[:,:] = np.array(background[::-1])\n",
    "        img = self.img\n",
    "        if fsd:\n",
    "            img = self.get_fsd()\n",
    "        res[self.mask] = img[self.mask]\n",
    "        plot(res)\n",
    "        \n",
    "    def insert_me_to(self, img, xc, yc, fsd=False):\n",
    "        x, y = self.img.shape[1::-1]\n",
    "        img2 = self.img\n",
    "        if fsd:\n",
    "            img2 = self.get_fsd()\n",
    "        paste_with_mask(img, img2, self.mask, (xc,yc), (x/2,y/2))\n",
    "        return img\n",
    "        "
   ]
  },
  {
   "cell_type": "code",
   "execution_count": null,
   "metadata": {},
   "outputs": [],
   "source": [
    "import glob\n",
    "from tqdm import tqdm_notebook, tqdm\n",
    "import random"
   ]
  },
  {
   "cell_type": "code",
   "execution_count": null,
   "metadata": {},
   "outputs": [],
   "source": [
    "all_imgs = []\n",
    "for fp in tqdm(glob.glob('imgs/*')*10):\n",
    "    try:\n",
    "        ic = ImageCool(max_gab=np.random.uniform(30,100),\n",
    "                       angle=np.random.uniform(-90,90),fsd_factor=2)\n",
    "        ic.load_img_from_file(fp)\n",
    "        all_imgs.append(ic)\n",
    "    except Exception as e:\n",
    "        print(f'{fp}  {e}')"
   ]
  },
  {
   "cell_type": "code",
   "execution_count": null,
   "metadata": {},
   "outputs": [],
   "source": [
    "import pickle\n",
    "with open('all_imgs_without_fsd.bin', 'wb') as f:\n",
    "    pickle.dump(all_imgs, f)"
   ]
  },
  {
   "cell_type": "code",
   "execution_count": null,
   "metadata": {},
   "outputs": [],
   "source": [
    "random.shuffle(all_imgs)"
   ]
  },
  {
   "cell_type": "code",
   "execution_count": null,
   "metadata": {},
   "outputs": [],
   "source": [
    "list(np.random.choice([f'{i}' for i in range(len(all_imgs))], replace=False, size=5))"
   ]
  },
  {
   "cell_type": "code",
   "execution_count": null,
   "metadata": {},
   "outputs": [],
   "source": [
    "[f'{i}' for i in range(len(all_imgs))]"
   ]
  },
  {
   "cell_type": "code",
   "execution_count": null,
   "metadata": {},
   "outputs": [],
   "source": [
    "from opti.Chromosome import ChromoController, DRange, SRange\n",
    "\n",
    "def img_likehood(img1, img2):\n",
    "    if img1.shape != img2.shape:\n",
    "        raise Exception(f'Картинки разного размера')\n",
    "    if len(img1.shape) == 2:\n",
    "        img1 = np.reshape(img1, (img1.shape[0], img1.shape[1], 1))\n",
    "        img2 = np.reshape(img2, (img1.shape[0], img2.shape[1], 1))\n",
    "    d =  img1.astype(np.float)-img2.astype(np.float)   \n",
    "    return 100 - np.average(np.sqrt(np.sum(d*d, axis=2)))*100/255\n",
    "\n",
    "class LaCollage(object):\n",
    "    def __init__(self, img_main, imgcools_all, img_count=100, backgroundcolor=(0,0,0)):\n",
    "        self.img_main = img_main\n",
    "        self.imgcools_all = list(imgcools_all)\n",
    "        self.chromo_contr = None\n",
    "        self.backgroundcolor = backgroundcolor\n",
    "        self.init_cc(img_count)\n",
    "    \n",
    "    def init_cc(self, img_count=100):\n",
    "        self.chromo_contr = self.get_chr_controller(img_count)\n",
    "        \n",
    "    def get_chr_controller(self, img_count=100):\n",
    "        genes = []\n",
    "        all_indexes = [f'{i}' for i in range(len(self.imgcools_all))]\n",
    "        xmax = self.img_main.shape[1]\n",
    "        ymax = self.img_main.shape[0]\n",
    "        \n",
    "        img_count_x = int(sqrt(img_count * xmax/ymax))\n",
    "        img_count_y = int(img_count_x / (xmax/ymax)) \n",
    "        dx = int(xmax/img_count_x)\n",
    "        dy = int(ymax/img_count_y)\n",
    "        ind0 = 0\n",
    "        for i in range(img_count_x):\n",
    "            for j in range(img_count_y):\n",
    "                sr = SRange(all_indexes, name=f'sr_{ind0}')\n",
    "                x1 = i*dx\n",
    "                x2 = (i+1)*dx\n",
    "                drx = DRange(x1, x2, name=f'xmax_{ind0}')\n",
    "                y1 = j*dy\n",
    "                y2 = (j+1)*dy\n",
    "                dry = DRange(y1, y2, name=f'ymax_{ind0}')\n",
    "                genes.append(sr)\n",
    "                genes.append(drx)\n",
    "                genes.append(dry)\n",
    "                ind0 += 1\n",
    "        return ChromoController(genes)   \n",
    "    \n",
    "    def get_collaged_img(self, chromo):\n",
    "        n = int(len(chromo)/3)\n",
    "        img = np.zeros_like(self.img_main)\n",
    "        img[:,:]=np.array(self.backgroundcolor)\n",
    "        for i in range(n):\n",
    "            if f'sr_{i}' not in chromo:\n",
    "                break\n",
    "            img_index = int(chromo[f'sr_{i}'])\n",
    "            xc = int(float(chromo[f'xmax_{i}']))\n",
    "            yc = int(float(chromo[f'ymax_{i}']))\n",
    "            \n",
    "            ic = self.imgcools_all[img_index]\n",
    "            ic.insert_me_to(img, xc, yc)\n",
    "        return img\n",
    "    \n",
    "    def get_rnd_chromo(self):\n",
    "        return self.chromo_contr.get_chromo()\n",
    "    \n",
    "    def fitness(self, chromo):\n",
    "        img1 = self.img_main\n",
    "        img2 = self.get_collaged_img(chromo)\n",
    "        return img_likehood(img1, img2)"
   ]
  },
  {
   "cell_type": "code",
   "execution_count": null,
   "metadata": {},
   "outputs": [],
   "source": [
    "img_main = cv2.imread('imgs/wogFEYSib_w.jpg')\n",
    "plot(img_main)"
   ]
  },
  {
   "cell_type": "code",
   "execution_count": null,
   "metadata": {},
   "outputs": [],
   "source": [
    "collage = LaCollage(img_main, all_imgs, img_count=120)"
   ]
  },
  {
   "cell_type": "code",
   "execution_count": null,
   "metadata": {},
   "outputs": [],
   "source": [
    "chromo = collage.get_rnd_chromo()\n",
    "img2 = collage.get_collaged_img(chromo)\n",
    "\n",
    "plot(img2)"
   ]
  },
  {
   "cell_type": "code",
   "execution_count": null,
   "metadata": {},
   "outputs": [],
   "source": [
    "from opti.Generation import Generation, OptiPerson\n",
    "from opti.StepUpGenetic import StepUpGenetic"
   ]
  },
  {
   "cell_type": "code",
   "execution_count": null,
   "metadata": {},
   "outputs": [],
   "source": [
    "chr_contr = collage.chromo_contr\n",
    "g = Generation(chr_contr,0)\n",
    "su = StepUpGenetic(chr_contr)\n",
    "g.get_init_pop(300)\n",
    "generations = []\n",
    "def fit_func(wchromo):\n",
    "    return wchromo, collage.fitness(wchromo['chromo'])"
   ]
  },
  {
   "cell_type": "code",
   "execution_count": null,
   "metadata": {},
   "outputs": [],
   "source": [
    "from collections import deque\n",
    "generations = deque(maxlen=100)"
   ]
  },
  {
   "cell_type": "code",
   "execution_count": null,
   "metadata": {},
   "outputs": [],
   "source": [
    "su.elite_count = 5\n",
    "su.prob_cross = 0.5\n",
    "su.prob_mut = 0.5\n",
    "su.prob_mut_gene = 0.5\n",
    "best_fit = 0\n",
    "n_cycle = 100000\n",
    "for i in range(n_cycle):\n",
    "    fitnessless = g.get_fitlessness()\n",
    "    results = [fit_func(c) for c in fitnessless]\n",
    "    g.init_fitnesses(results)\n",
    "    nextpop = su.step_up(g.pop)\n",
    "    generations.append(g)\n",
    "    g = Generation(chr_contr, g.num_g+1, nextpop)\n",
    "    fit = generations[-1].get_best().get_best()['fitness']\n",
    "    if fit > best_fit:\n",
    "        best_fit = fit\n",
    "        print(f'{i} {repr(generations[-1].get_best())}')"
   ]
  },
  {
   "cell_type": "code",
   "execution_count": null,
   "metadata": {},
   "outputs": [],
   "source": [
    "generations[-1].get_best()"
   ]
  },
  {
   "cell_type": "code",
   "execution_count": null,
   "metadata": {},
   "outputs": [],
   "source": [
    "chromo = generations[-1].get_best().get_best()['chromo']\n",
    "img_best = collage.get_collaged_img(chromo)\n",
    "plot(img_best)"
   ]
  },
  {
   "cell_type": "code",
   "execution_count": null,
   "metadata": {},
   "outputs": [],
   "source": [
    "plot(img_main)"
   ]
  },
  {
   "cell_type": "code",
   "execution_count": null,
   "metadata": {},
   "outputs": [],
   "source": [
    "ic = ImageCool(100,fsd_factor=16)\n",
    "ic.load_img(img_main)"
   ]
  },
  {
   "cell_type": "code",
   "execution_count": null,
   "metadata": {},
   "outputs": [],
   "source": [
    "ic.plot(fsd=True)"
   ]
  },
  {
   "cell_type": "code",
   "execution_count": null,
   "metadata": {},
   "outputs": [],
   "source": [
    "icg = ImageCool(1000, fsd_factor=4)\n",
    "icg.load_img(cv2.cvtColor(img_main, cv2.COLOR_BGR2GRAY))\n",
    "plt.imshow(icg.img, 'gray')"
   ]
  },
  {
   "cell_type": "code",
   "execution_count": null,
   "metadata": {},
   "outputs": [],
   "source": [
    "plt.imshow(icg.get_fsd(), 'gray')"
   ]
  },
  {
   "cell_type": "code",
   "execution_count": null,
   "metadata": {},
   "outputs": [],
   "source": []
  }
 ],
 "metadata": {
  "kernelspec": {
   "display_name": "env_imyimy",
   "language": "python",
   "name": "env_imyimy"
  },
  "language_info": {
   "codemirror_mode": {
    "name": "ipython",
    "version": 3
   },
   "file_extension": ".py",
   "mimetype": "text/x-python",
   "name": "python",
   "nbconvert_exporter": "python",
   "pygments_lexer": "ipython3",
   "version": "3.6.7"
  }
 },
 "nbformat": 4,
 "nbformat_minor": 2
}
